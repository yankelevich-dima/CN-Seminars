{
 "cells": [
  {
   "cell_type": "markdown",
   "metadata": {},
   "source": [
    "Cеминар 1. Реализация алгоритма CRC16\n",
    "-----------------------------------------------\n",
    "\n",
    "***********************************************\n",
    "\n",
    "*Материалы:*\n",
    "\n",
    "[Википедия](https://ru.wikipedia.org/wiki/LZ77)  \n",
    "[Викиконспекты](http://neerc.ifmo.ru/wiki/index.php?title=%D0%90%D0%BB%D0%B3%D0%BE%D1%80%D0%B8%D1%82%D0%BC%D1%8B_LZ77_%D0%B8_LZ78)  \n",
    "[Хабр](https://habrahabr.ru/post/132683/)\n",
    "\n",
    "***********************************************"
   ]
  },
  {
   "cell_type": "code",
   "execution_count": 1,
   "metadata": {
    "collapsed": false
   },
   "outputs": [
    {
     "name": "stdout",
     "output_type": "stream",
     "text": [
      "Labore dolor repellendus pariatur doloremque laboriosam corporis molestiae illo.\n"
     ]
    }
   ],
   "source": [
    "from faker import Factory\n",
    "\n",
    "fake = Factory.create('en_US')\n",
    "\n",
    "sentence = fake.sentence()\n",
    "print sentence"
   ]
  },
  {
   "cell_type": "code",
   "execution_count": 2,
   "metadata": {
    "collapsed": false
   },
   "outputs": [],
   "source": [
    "def crc(msg, div, code='000'):\n",
    "\n",
    "    msg = msg + code\n",
    "\n",
    "    msg = list(msg)\n",
    "    div = list(div)\n",
    "\n",
    "    for i in range(len(msg) - len(code)):\n",
    "        if msg[i]:\n",
    "            for j in range(len(div)):\n",
    "                msg[i + j] = str((int(msg[i + j]) + int(div[j])) % 2)\n",
    "\n",
    "    return ''.join(msg[-len(code):])"
   ]
  },
  {
   "cell_type": "code",
   "execution_count": 3,
   "metadata": {
    "collapsed": false
   },
   "outputs": [
    {
     "name": "stdout",
     "output_type": "stream",
     "text": [
      "Input message: 10011001100001110001011011111110010110010110000011001001101111110110011011111110010100000111001011001011110000110010111011001101100110010111011101100100111010111100111000001110000110000111100101101001110000111101001110101111001010000011001001101111110110011011111110010110010111011011110001111010111001011000001101100110000111000101101111111001011010011101111111001111000011101101100000110001111011111110010111000011011111110010110100111100111000001101101110111111011001100101111001111101001101001110000111001011000001101001110110011011001101111101110\n",
      "Divisor: 1011\n",
      "Output code: 001\n",
      "Success: True\n"
     ]
    }
   ],
   "source": [
    "p = ''\n",
    "div = '1011'\n",
    "\n",
    "\n",
    "for a in sentence:\n",
    "    p += ''.join(format(ord(a), 'b'))\n",
    "    \n",
    "print 'Input message: ' + p\n",
    "\n",
    "print 'Divisor: ' + div\n",
    "\n",
    "code = crc(p, div)\n",
    "\n",
    "print 'Output code: ' + code\n",
    "\n",
    "print 'Success: ' + str(crc(p, div, code) == '000')"
   ]
  }
 ],
 "metadata": {
  "kernelspec": {
   "display_name": "Python 2",
   "language": "python",
   "name": "python2"
  },
  "language_info": {
   "codemirror_mode": {
    "name": "ipython",
    "version": 2
   },
   "file_extension": ".py",
   "mimetype": "text/x-python",
   "name": "python",
   "nbconvert_exporter": "python",
   "pygments_lexer": "ipython2",
   "version": "2.7.11"
  }
 },
 "nbformat": 4,
 "nbformat_minor": 0
}
