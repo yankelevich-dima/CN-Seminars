{
 "cells": [
  {
   "cell_type": "markdown",
   "metadata": {},
   "source": [
    "Cеминар 2. Реализация кодирования по Хэммингу\n",
    "-----------------------------------------------\n",
    "\n",
    "***********************************************\n",
    "\n",
    "*Материалы:*\n",
    "\n",
    "[Википедия](https://ru.wikipedia.org/wiki/LZ77)  \n",
    "[Викиконспекты](http://neerc.ifmo.ru/wiki/index.php?title=%D0%90%D0%BB%D0%B3%D0%BE%D1%80%D0%B8%D1%82%D0%BC%D1%8B_LZ77_%D0%B8_LZ78)  \n",
    "[Хабр](https://habrahabr.ru/post/132683/)\n",
    "\n",
    "***********************************************"
   ]
  },
  {
   "cell_type": "code",
   "execution_count": 1,
   "metadata": {
    "collapsed": false
   },
   "outputs": [
    {
     "name": "stdout",
     "output_type": "stream",
     "text": [
      "110010011000011000101000011001100011001100100011011111001001100110001010000010010111110011001111011010010010011001100011100100100101000001001000000\n"
     ]
    }
   ],
   "source": [
    "def get_bits(list_result):\n",
    "    bit1 = list_result[::2]\n",
    "    bit2 = list_result[1::4] + list_result[2::4]\n",
    "    bit4 = list_result[3::8] + list_result[4::8] + list_result[5::8] + list_result[6::8]\n",
    "    bit8 = list_result[7:15]\n",
    "    bit16 = list_result[15:]\n",
    "    \n",
    "    bit_1 = str(sum([int(x) for x in bit1]) % 2)\n",
    "    bit_2 = str(sum([int(x) for x in bit2]) % 2)\n",
    "    bit_4 = str(sum([int(x) for x in bit4]) % 2)\n",
    "    bit_8 = str(sum([int(x) for x in bit8]) % 2)\n",
    "    bit_16 = str(sum([int(x) for x in bit16]) % 2)\n",
    "    \n",
    "    return (bit_1, bit_2, bit_4, bit_8, bit_16)\n",
    "\n",
    "\n",
    "\n",
    "sentence = 'Hello, World!'\n",
    "\n",
    "if len(sentence) % 2:\n",
    "    sentence += ' '\n",
    "    \n",
    "encrypt = ''\n",
    "\n",
    "ab = list(sentence)\n",
    "\n",
    "list_1 = list(sentence)[::2]\n",
    "list_2 = list(sentence)[1::2]\n",
    "\n",
    "for a, b in zip(list_1, list_2):\n",
    "    \n",
    "    # В 2 сс    \n",
    "    a_order = ord(a)\n",
    "    b_order = ord(b)\n",
    "    result = '{0:08b}{1:08b}'.format(a_order, b_order)\n",
    "    \n",
    "    # Делаем список\n",
    "    \n",
    "    list_result = list(result)\n",
    "    \n",
    "    # Добавляем контрольные биты\n",
    "    \n",
    "    list_result.insert(0, '0')\n",
    "    list_result.insert(1, '0')\n",
    "    list_result.insert(3, '0')\n",
    "    list_result.insert(7, '0')\n",
    "    list_result.insert(15, '0')\n",
    "    \n",
    "    # Получаем контрольные биты\n",
    "\n",
    "    result = get_bits(list_result)\n",
    "\n",
    "    list_result[0] = result[0]\n",
    "    list_result[1] = result[1]\n",
    "    list_result[3] = result[2]\n",
    "    list_result[7] = result[3]\n",
    "    list_result[15] = result[4]\n",
    "    \n",
    "    encrypt += ''.join(list_result[:])\n",
    "\n",
    "print encrypt"
   ]
  },
  {
   "cell_type": "code",
   "execution_count": 2,
   "metadata": {
    "collapsed": false
   },
   "outputs": [
    {
     "name": "stdout",
     "output_type": "stream",
     "text": [
      "Hello, World!\n"
     ]
    }
   ],
   "source": [
    "def get_2_char(list_result):\n",
    "    list_result.pop(15)\n",
    "    list_result.pop(7)\n",
    "    list_result.pop(3)\n",
    "    list_result.pop(1)\n",
    "    list_result.pop(0)\n",
    "\n",
    "    reverse_1 = ''.join(list_result[:8])\n",
    "    reverse_2 = ''.join(list_result[8:])\n",
    "    return (chr(int(reverse_1, 2)), chr(int(reverse_2, 2)))\n",
    "\n",
    "\n",
    "# Вносим ошибки\n",
    "\n",
    "# Разбиваем на участки по 21 биту\n",
    "\n",
    "decoded = ''\n",
    "\n",
    "for frag in zip(*[iter(encrypt)]*21):\n",
    "    \n",
    "    # Получаем контрольные биты\n",
    "    result = get_bits(frag)\n",
    "    \n",
    "    # Находим позицию ошибки\n",
    "    error = 0\n",
    "    for index, i in enumerate([1, 2, 4, 8, 16]):\n",
    "        if result[index] == '1':\n",
    "            error += int(i)\n",
    "    \n",
    "    # Исправляем ошибку    \n",
    "    if error:\n",
    "        frag[error - 1] = str((int(frag[error - 1]) + 1) % 2)\n",
    "        \n",
    "    char_1, char_2 = get_2_char(list(frag))\n",
    "        \n",
    "    # Получаем char символы\n",
    "    decoded += '{}{}'.format(char_1, char_2)\n",
    "    \n",
    "if decoded[-1] == ' ':\n",
    "    decoded = decoded[:-1]\n",
    "    \n",
    "print decoded"
   ]
  },
  {
   "cell_type": "code",
   "execution_count": null,
   "metadata": {
    "collapsed": true
   },
   "outputs": [],
   "source": []
  }
 ],
 "metadata": {
  "kernelspec": {
   "display_name": "Python 2",
   "language": "python",
   "name": "python2"
  },
  "language_info": {
   "codemirror_mode": {
    "name": "ipython",
    "version": 2
   },
   "file_extension": ".py",
   "mimetype": "text/x-python",
   "name": "python",
   "nbconvert_exporter": "python",
   "pygments_lexer": "ipython2",
   "version": "2.7.11"
  }
 },
 "nbformat": 4,
 "nbformat_minor": 0
}
