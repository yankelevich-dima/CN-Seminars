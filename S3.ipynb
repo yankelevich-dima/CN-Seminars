{
 "cells": [
  {
   "cell_type": "markdown",
   "metadata": {},
   "source": [
    "Cеминар 3. Реализация алгоритма Шеннона-Фано\n",
    "-----------------------------------------------\n",
    "\n",
    "***********************************************\n",
    "\n",
    "*Материалы:*\n",
    "\n",
    "[Википедия](https://ru.wikipedia.org/wiki/LZ77)  \n",
    "[Викиконспекты](http://neerc.ifmo.ru/wiki/index.php?title=%D0%90%D0%BB%D0%B3%D0%BE%D1%80%D0%B8%D1%82%D0%BC%D1%8B_LZ77_%D0%B8_LZ78)  \n",
    "[Хабр](https://habrahabr.ru/post/132683/)\n",
    "\n",
    "***********************************************"
   ]
  },
  {
   "cell_type": "markdown",
   "metadata": {},
   "source": [
    "1. Генерируем случайный текст\n",
    "-----------------------------------------------------------"
   ]
  },
  {
   "cell_type": "code",
   "execution_count": 1,
   "metadata": {
    "collapsed": false
   },
   "outputs": [
    {
     "name": "stdout",
     "output_type": "stream",
     "text": [
      "ipsam praesentium repudiandae natus at unde rem eius. dolores corporis consectetur repellat saepe. explicabo qui voluptates ducimus reiciendis numquam. fugit adipisci suscipit numquam pariatur quae labore voluptate.\n",
      "dolores sunt expedita veritatis repellendus quis vero corrupti. sint aliquam autem non maiores nulla ipsum hic. ut saepe iure ducimus impedit fugiat.\n",
      "maxime recusandae totam earum nulla officia optio. consequuntur aliquid quod veniam fugit sed. dicta cumque similique sit quia nobis. vel labore explicabo optio aliquam.\n",
      "deserunt nihil ratione earum sunt accusamus itaque. occaecati ut dolorum dolor minus. necessitatibus repellendus voluptatibus nobis reiciendis explicabo vel illo. illo laboriosam ducimus neque dolore illo vel nihil.\n",
      "recusandae pariatur asperiores incidunt rem dolores sunt at molestiae. nesciunt autem laudantium eligendi quam modi ipsam. tenetur ex explicabo sunt assumenda corporis porro.\n"
     ]
    }
   ],
   "source": [
    "from faker import Factory\n",
    "\n",
    "fake = Factory.create('en_US')\n",
    "\n",
    "fake_text = fake.text(1024).lower()\n",
    "print fake_text"
   ]
  },
  {
   "cell_type": "markdown",
   "metadata": {},
   "source": [
    "2. Вычисляем частоту появления для каждого символа\n",
    "--------------------------------------------------------"
   ]
  },
  {
   "cell_type": "code",
   "execution_count": 2,
   "metadata": {
    "collapsed": false
   },
   "outputs": [
    {
     "name": "stdout",
     "output_type": "stream",
     "text": [
      "  - 0.128509719222\n",
      "i - 0.0917926565875\n",
      "e - 0.0896328293737\n",
      "u - 0.0799136069114\n",
      "a - 0.0745140388769\n",
      "s - 0.060475161987\n",
      "o - 0.0561555075594\n",
      "t - 0.0561555075594\n",
      "r - 0.048596112311\n",
      "l - 0.0475161987041\n",
      "n - 0.0453563714903\n",
      "m - 0.0388768898488\n",
      "c - 0.0334773218143\n",
      "d - 0.0334773218143\n",
      "p - 0.0323974082073\n",
      ". - 0.0194384449244\n",
      "q - 0.0172786177106\n",
      "b - 0.011879049676\n",
      "v - 0.0097192224622\n",
      "x - 0.00755939524838\n",
      "f - 0.00539956803456\n",
      "\n",
      " - 0.00431965442765\n",
      "g - 0.00431965442765\n",
      "h - 0.00323974082073\n"
     ]
    }
   ],
   "source": [
    "from itertools import groupby\n",
    "\n",
    "sorted_text = sorted(fake_text)\n",
    "groups = groupby(sorted_text)\n",
    "\n",
    "words = {}\n",
    "\n",
    "for key, val in groups:\n",
    "    words[key] = len(list(val))/float(len(fake_text))\n",
    "    \n",
    "from collections import OrderedDict\n",
    "sorted_words = OrderedDict(sorted(words.items(), key=lambda x: x[1], reverse=True))\n",
    "\n",
    "for key, val in sorted_words.items():\n",
    "    print '{} - {}'.format(key, val)"
   ]
  },
  {
   "cell_type": "markdown",
   "metadata": {},
   "source": [
    "3. Получаем для каждого символа код на основании частоты его появления\n",
    "------------------------------------------------------------------------"
   ]
  },
  {
   "cell_type": "code",
   "execution_count": 3,
   "metadata": {
    "collapsed": false
   },
   "outputs": [
    {
     "name": "stdout",
     "output_type": "stream",
     "text": [
      "h - 11111111\n",
      "g - 11111110\n",
      "\n",
      " - 11111101\n",
      "f - 11111100\n",
      "x - 1111101\n",
      "v - 1111100\n",
      "b - 111101\n",
      "q - 111100\n",
      ". - 11101\n",
      "p - 11100\n",
      "d - 11011\n",
      "c - 11010\n",
      "m - 1100\n",
      "n - 10111\n",
      "l - 10110\n",
      "r - 1010\n",
      "o - 1001\n",
      "t - 1000\n",
      "s - 0111\n",
      "a - 0110\n",
      "u - 0101\n",
      "e - 0100\n",
      "i - 001\n",
      "  - 000\n"
     ]
    }
   ],
   "source": [
    "# Создаем словарь буква - код\n",
    "\n",
    "words_code = {}\n",
    "for key in words.keys():\n",
    "    words_code[key] = ''\n",
    "\n",
    "def divide(words):\n",
    "    if len(words) < 2:\n",
    "        return\n",
    "\n",
    "    words = OrderedDict(sorted(words.items(), key=lambda x: x[1], reverse=True))\n",
    "    s = 0\n",
    "    middle = sum(words.values())*0.5    \n",
    "    letters_0 = set()\n",
    "    letters_1 = set()\n",
    "    for key, val in words.items():\n",
    "        if abs(s + val - middle) < abs(s - middle):\n",
    "            s += val\n",
    "            letters_0.add(key)\n",
    "        else:\n",
    "            break\n",
    "                        \n",
    "    for key in words.keys():\n",
    "        if key in letters_0:\n",
    "            words_code[key] += '0'\n",
    "        else:\n",
    "            words_code[key] += '1'\n",
    "            \n",
    "    words_0 = {}\n",
    "    words_1 = {}\n",
    "    \n",
    "    words_0 = dict((key, val) for key, val in words.items() if key in letters_0)\n",
    "    words_1 = dict((key, val) for key, val in words.items() if key not in letters_0)\n",
    "    \n",
    "    divide(words_0)\n",
    "    divide(words_1)\n",
    "    \n",
    "divide(sorted_words)\n",
    "\n",
    "for k,v in OrderedDict(sorted(words_code.items(), key=lambda x: x[1], reverse=True)).items():\n",
    "    print '{} - {}'.format(k, v)\n",
    "    \n",
    "code_words = dict((value, key) for key, value in words_code.items())"
   ]
  },
  {
   "cell_type": "markdown",
   "metadata": {},
   "source": [
    "4. Кодируем исходный текст в соответствии с полученными кодами"
   ]
  },
  {
   "cell_type": "code",
   "execution_count": 4,
   "metadata": {
    "collapsed": false
   },
   "outputs": [
    {
     "name": "stdout",
     "output_type": "stream",
     "text": [
      "0011110001110110110000011100101001100100011101001011110000010101110000010100100111000101110110010110101111101101100100000101110110100001010111000011010000000101101111101101000001010010011000000100001010101111110100011011100110110100110100100011100011010100110101110010011010001011100011010100110111011101001101010000100100001011010000101001001110001001011010110011010000000111011001001110001001110100001001111101111001011000111010011011110110010001111000101001000111110010011011001011110010000110100001000111000110110101110100011100010101110001010010000111010001010010111110110010111000101110101110011110001010110110011101000111111000101111111100011000000011011011001111000010111110100010000111010101111101000111100001100000010111010111001111000101011011000001110001101010001011010000101101000011110001010110010000010110011011110110011010010000011111001001101100101111001000011010000100111011111110111011100110110100110100100011100001110101101111000000010011111011110001001101100110000110000111110001001010001100001101000001011100010100100111000100101101011001001011111011010101110001111000101001011100011111000100101010010001101010011010101001011110010000011110100001110011011110000000110101100011111000101011011000000110010110000100110000010111100110111000110001100011001101001000111000101110101101101011001100000011110001110101110000011111111001110101110100001011000000011101100100111000100000001010110100100000110110101110100011100010101110000011100111000100110110011000000111111000101111111100010110100011101111111011100011011111010011100010000010100100110100101011101101011111011011001000001000100110000110110000001000110101001011100000101110101101101011001100001001111111001111110000111010001011000010011110010000011001111010001101010011011101110100111100010101011011110000101101000001101011000111110001010011101100011110001011001110110001111100010010111001011011000001111110001011111111000110000000111010011011111010001101100111010100001100001101001011100111100010101000000111001110000110110001111100010101000000111001100000011110001010010110000101111001111101001011111101000111110001001011000010110011011110110011010010000001001111101111001011000111010011011110110010001001111001000001100100001101011000111110001010110110011101111111011101101000111010010100101101111000000101110011111111100110110000101001101000001100110111010000001000110101001011100000011101011011110000000110110101101001010111011011000101011100000110000110111100010101001110100010011101011010011001001101001101000001000010110000001101110011011010011010010111000001101110011011010011010000110000110111010101111110100010111010011010010001110111001100001101000001111101010101110001010010011100010010110101100100101111101101010111000111110010011011001011110010000110100000111110101010111000101111001111101001011100010100100001110100010100101111101100101110000100111110111100101100011101001101111011001000111110001001011000000110110101101001111010000011011010110100100010110011011110110011010001100101110110110000011011010111010001110001010111000101110100111100010101000001101110011011010011010010000000110110101101001000111110001001011000010111001111111110011011011101111111011010010011010010101110110101111101101100100000111000110101000101101000010110100000110011111100010010100011001101001000111000001101111101000111011010110111100000010100100110000011011100110110100110100100011100001110101101111000000011010000001100100110110010001111000001011001001110100010111010001111101000101011011110000000110010110000100110000010110011001011101101101011110000010101110000001001011000111111110010010111110110010001111000101011011000001100100111011001000001111000111011011001110100010000100101110100100001011010000010011111010000100111110111100101100011101001101111011001000011101011011110000000110011101110101110001001011111011011000011010100110101110010011010001011100011100100110101010100111101\n"
     ]
    }
   ],
   "source": [
    "encoded_text = ''\n",
    "\n",
    "for letter in fake_text:\n",
    "    encoded_text += words_code[letter]\n",
    "    \n",
    "print encoded_text"
   ]
  },
  {
   "cell_type": "code",
   "execution_count": 5,
   "metadata": {
    "collapsed": false
   },
   "outputs": [
    {
     "name": "stdout",
     "output_type": "stream",
     "text": [
      "ipsam praesentium repudiandae natus at unde rem eius. dolores corporis consectetur repellat saepe. explicabo qui voluptates ducimus reiciendis numquam. fugit adipisci suscipit numquam pariatur quae labore voluptate.\n",
      "dolores sunt expedita veritatis repellendus quis vero corrupti. sint aliquam autem non maiores nulla ipsum hic. ut saepe iure ducimus impedit fugiat.\n",
      "maxime recusandae totam earum nulla officia optio. consequuntur aliquid quod veniam fugit sed. dicta cumque similique sit quia nobis. vel labore explicabo optio aliquam.\n",
      "deserunt nihil ratione earum sunt accusamus itaque. occaecati ut dolorum dolor minus. necessitatibus repellendus voluptatibus nobis reiciendis explicabo vel illo. illo laboriosam ducimus neque dolore illo vel nihil.\n",
      "recusandae pariatur asperiores incidunt rem dolores sunt at molestiae. nesciunt autem laudantium eligendi quam modi ipsam. tenetur ex explicabo sunt assumenda corporis porro.\n"
     ]
    }
   ],
   "source": [
    "current_code = ''\n",
    "decoded_text = ''\n",
    "\n",
    "for letter in encoded_text:\n",
    "    current_code += letter\n",
    "    if current_code in code_words.keys():\n",
    "        decoded_text += code_words[current_code]\n",
    "        current_code = ''\n",
    "        \n",
    "print decoded_text"
   ]
  }
 ],
 "metadata": {
  "kernelspec": {
   "display_name": "Python 2",
   "language": "python",
   "name": "python2"
  },
  "language_info": {
   "codemirror_mode": {
    "name": "ipython",
    "version": 2
   },
   "file_extension": ".py",
   "mimetype": "text/x-python",
   "name": "python",
   "nbconvert_exporter": "python",
   "pygments_lexer": "ipython2",
   "version": "2.7.11"
  }
 },
 "nbformat": 4,
 "nbformat_minor": 0
}
