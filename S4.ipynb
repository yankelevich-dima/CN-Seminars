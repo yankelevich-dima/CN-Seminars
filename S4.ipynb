{
 "cells": [
  {
   "cell_type": "code",
   "execution_count": 1,
   "metadata": {
    "collapsed": false
   },
   "outputs": [
    {
     "name": "stdout",
     "output_type": "stream",
     "text": [
      "(1, 3, '')\n"
     ]
    }
   ],
   "source": [
    "def find_pattern(dictionary, temp_data):\n",
    "    max_length = 0\n",
    "    max_index = 0\n",
    "    max_char = ''\n",
    "    index = 0\n",
    "    for i in xrange(len(temp_data)):\n",
    "        index = dictionary.find(temp_data[0:i + 1])\n",
    "        if index != -1 and len(temp_data[0:i + 1]) > max_length:\n",
    "            max_length = len(temp_data[0:i + 1])\n",
    "            max_index = index\n",
    "            if max_length == len(temp_data):\n",
    "                max_char = ''\n",
    "            else:\n",
    "                max_char = temp_data[i + 1]\n",
    "            \n",
    "    return (max_index, max_length, max_char)\n",
    "            \n",
    "            \n",
    "print find_pattern('hahahah', 'aha')"
   ]
  },
  {
   "cell_type": "code",
   "execution_count": 2,
   "metadata": {
    "collapsed": false
   },
   "outputs": [
    {
     "name": "stdout",
     "output_type": "stream",
     "text": [
      "Original string: AABCBBABCABADBADADA\n",
      "Encoded  string: \u0000\u0000A\u0001\u0001B\u0000\u0000C\u0002\u0001B\u0005\u0003A\u0005\u0002D\u0003\u0003A\u0002\u0001A\n",
      "Decoded string:  AABCBBABCAABDBADADA\n"
     ]
    }
   ],
   "source": [
    "class BMH:\n",
    "    def pattern(self, data):\n",
    "        self.skip = []\n",
    "        self.m = len(data)\n",
    "        for k in range(256): self.skip.append(self.m)\n",
    "        for k in range(self.m - 1): self.skip[ord(data[k])] = self.m - k - 1\n",
    "        self.skip = tuple(self.skip)\n",
    "        self.data = data\n",
    "    def find(self, text):\n",
    "        n = len(text)\n",
    "        if self.m > n: return -1\n",
    "        k = self.m - 1\n",
    "        while k < n:\n",
    "            j = self.m - 1; i = k\n",
    "            while j >= 0 and text[i] == self.data[j]:\n",
    "                j -= 1; i -= 1\n",
    "            if j == -1: return i + 1\n",
    "            k += self.skip[ord(text[k])]\n",
    "        return -1\n",
    " \n",
    "\n",
    "class LZ77:\n",
    "    def __init__(self, data):\n",
    "        self.position = 0\n",
    "        self.window = \"\"\n",
    "        self.stream = data\n",
    "        self.streamSize = len(self.stream)\n",
    "        self.search = BMH()\n",
    "    def Encode(self):\n",
    "        p = 0\n",
    "        c = ''\n",
    "        lastresult = 0\n",
    "        found = 0\n",
    "        # Loop through the lookahead buffer.\n",
    "        for i in range(self.streamSize):\n",
    "            # Set pattern to find the longest match.\n",
    "            self.search.pattern(self.stream[self.position:self.position+i+1])\n",
    "            # Find the pattern match in the window.\n",
    "            result = self.search.find(self.window)\n",
    "            # If match failed, we've found the longest.\n",
    "            if result < 0: break\n",
    "            # Set the last result.\n",
    "            lastresult = result\n",
    "            found = 1\n",
    "        # Set c to the last character after result.\n",
    "        c = self.stream[self.position+i]\n",
    "        # Set pointer to the last result that worked.\n",
    "        p = lastresult\n",
    "        # Set the number of bytes backwards to travel.\n",
    "        B = 0\n",
    "        if i > 0: B = self.position - p\n",
    "        L = i\n",
    "        # Check if the lookahead buffer is not empty.\n",
    "        if self.streamSize > 0:\n",
    "            # Increase the position of the lookahead buffer.\n",
    "            self.position += i + 1\n",
    "            # Decrease the size of the lookahead buffer to match.\n",
    "            self.streamSize -= i + 1\n",
    "            # The window encompasses everything up to the lookahead.\n",
    "            self.window = self.stream[:self.position]\n",
    "        return ((B, L), c)\n",
    "    def Encoder(self):\n",
    "        output = \"\"\n",
    "        length = self.streamSize\n",
    "        # Loop through and save the code information.\n",
    "        while self.streamSize > 0:\n",
    "            ((B, L), C) = self.Encode()\n",
    "            output += chr(B) + chr(L) + C\n",
    "        return (output, length)\n",
    "    def Decoder(self, length):\n",
    "        sz = len(self.stream)\n",
    "        P = []\n",
    "        # Set up the codes and the window.\n",
    "        for i in range(0, sz, 3):\n",
    "            B,L,C = self.stream[i:i+3]\n",
    "            P.append((ord(B),ord(L)))\n",
    "            self.window += C\n",
    "        P = tuple(P)\n",
    "        output = \"\"\n",
    "        i = 0\n",
    "        # Loop through executing the code instructions\n",
    "        # (move back B, copy length L, drop in C)\n",
    "        for p in P:\n",
    "            B = p[0]\n",
    "            L = p[1]\n",
    "            C = self.window[i]\n",
    "            if L > 0:\n",
    "                if i-B < 0:\n",
    "                    c = self.window[0:L]\n",
    "                else:\n",
    "                    pos = i-B\n",
    "                    c = self.window[pos:pos+L]\n",
    "                c += C\n",
    "            else:\n",
    "                c = self.window[i]\n",
    "            output += c\n",
    "            i += 1\n",
    "        return output\n",
    " \n",
    "if __name__ == '__main__':\n",
    "    original = 'AABCBBABCABADBADADA'\n",
    "    lz = LZ77(original)\n",
    "    stream, streamSize = lz.Encoder()\n",
    "    lz = LZ77(stream)\n",
    "    s = lz.Decoder(streamSize)\n",
    "    print 'Original string:',original\n",
    "    print 'Encoded  string:',stream\n",
    "    print 'Decoded string: ',s\n"
   ]
  },
  {
   "cell_type": "code",
   "execution_count": null,
   "metadata": {
    "collapsed": true
   },
   "outputs": [],
   "source": []
  }
 ],
 "metadata": {
  "kernelspec": {
   "display_name": "Python 2",
   "language": "python",
   "name": "python2"
  },
  "language_info": {
   "codemirror_mode": {
    "name": "ipython",
    "version": 2
   },
   "file_extension": ".py",
   "mimetype": "text/x-python",
   "name": "python",
   "nbconvert_exporter": "python",
   "pygments_lexer": "ipython2",
   "version": "2.7.11"
  }
 },
 "nbformat": 4,
 "nbformat_minor": 0
}
