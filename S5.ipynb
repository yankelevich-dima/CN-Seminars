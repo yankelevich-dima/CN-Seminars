{
 "cells": [
  {
   "cell_type": "markdown",
   "metadata": {},
   "source": [
    "Cеминар 5. Реализация алгоритма LZ78\n",
    "-----------------------------------------------\n",
    "\n",
    "***********************************************\n",
    "\n",
    "*Материалы:*\n",
    "\n",
    "[Википедия](https://ru.wikipedia.org/wiki/LZ77)  \n",
    "[Викиконспекты](http://neerc.ifmo.ru/wiki/index.php?title=%D0%90%D0%BB%D0%B3%D0%BE%D1%80%D0%B8%D1%82%D0%BC%D1%8B_LZ77_%D0%B8_LZ78)  \n",
    "[Хабр](https://habrahabr.ru/post/132683/)\n",
    "\n",
    "***********************************************"
   ]
  },
  {
   "cell_type": "markdown",
   "metadata": {},
   "source": [
    "1. Вспомогательные функции\n",
    "---------------------------------------------\n",
    "\n",
    "`find_pattern` - находит подстроку максимальной длины, находящейся в списке  \n",
    "`int_to_byte`  - переводит целое число в двоичный вид с заданной длиной\n",
    "\n",
    "*********************************************"
   ]
  },
  {
   "cell_type": "code",
   "execution_count": 1,
   "metadata": {
    "collapsed": true
   },
   "outputs": [],
   "source": [
    "def find_pattern(dictionary, text):\n",
    "    # Просматриваем слова в порядке возрастания\n",
    "    for element in sorted(dictionary, key=lambda x: len(x), reverse=True):\n",
    "        # Обрабатываем случай неправильной работы zip\n",
    "        if len(element) < len(text):\n",
    "            # Если все пары одинаковы - текст начинался с данного элемента\n",
    "            if all(a == b for a, b in zip(element, text)):\n",
    "                return element\n",
    "            \n",
    "def int_to_byte(element, base):\n",
    "    return ('{:0'+ str(base) + 'b}').format(element)"
   ]
  },
  {
   "cell_type": "markdown",
   "metadata": {},
   "source": [
    "2. Функция кодирования\n",
    "---------------------------------------------\n",
    "\n",
    "Параметр `DICT_MAX_LENGTH` показывает максимально возможный размер словаря, при превышении которого он очищается\n",
    "\n",
    "*********************************************"
   ]
  },
  {
   "cell_type": "code",
   "execution_count": 2,
   "metadata": {
    "collapsed": false
   },
   "outputs": [],
   "source": [
    "import time\n",
    "import math\n",
    "\n",
    "DICT_MAX_LENGTH = 1024 # 2^n - 1\n",
    "CODE_BYTE_LENGTH = int(math.ceil(math.log(DICT_MAX_LENGTH, 2))) # Сколько бит занимает 1 элемент кода\n",
    "ASCII_BYTE_LENGTH = 8\n",
    "CODE_LENGTH = ASCII_BYTE_LENGTH + CODE_BYTE_LENGTH\n",
    "\n",
    "def encode_lz78(text):\n",
    "    \n",
    "    time_enter = time.time()\n",
    "    \n",
    "    dictionary = []\n",
    "    codes = []\n",
    "    overflow_count = 0\n",
    "    \n",
    "    # Составляем пары    \n",
    "    while len(text):\n",
    "        element = find_pattern(dictionary, text)\n",
    "        if element:\n",
    "            codes.append((dictionary.index(element) + 1, text[len(element)]))\n",
    "            dictionary.append(element + text[len(element)])\n",
    "            text = text[len(element) + 1:]\n",
    "        else:\n",
    "            codes.append((0, text[0]))\n",
    "            dictionary.append(text[0])\n",
    "            text = text[1:]\n",
    "\n",
    "        # Очищаем словарь при переполнении\n",
    "        if len(dictionary) > DICT_MAX_LENGTH:\n",
    "            dictionary = []\n",
    "            overflow_count += 1\n",
    "\n",
    "    print 'Количество переполнений буффера {}'.format(overflow_count)\n",
    "    print 'Количество пар {}'.format(len(codes))\n",
    "    \n",
    "    # Переводим в бинарник\n",
    "    result = ''    \n",
    "    for element in codes:\n",
    "        result += int_to_byte(element[0], CODE_BYTE_LENGTH)\n",
    "        result += int_to_byte(ord(element[1]), ASCII_BYTE_LENGTH)\n",
    "        \n",
    "    print 'Время выполнения {:.3f}'.format(time.time() - time_enter)\n",
    "    \n",
    "    return result, len(codes)"
   ]
  },
  {
   "cell_type": "markdown",
   "metadata": {},
   "source": [
    "3. Генерация фэйкового текста\n",
    "-----------------------------------------------"
   ]
  },
  {
   "cell_type": "code",
   "execution_count": 3,
   "metadata": {
    "collapsed": false,
    "scrolled": true
   },
   "outputs": [
    {
     "name": "stdout",
     "output_type": "stream",
     "text": [
      "Veritatis harum aperiam praesentium temporibus repudiandae. Totam asperiores blanditiis voluptas mollitia. Praesentium aut tenetur voluptates nam ducimus.\n",
      "In ullam fuga at totam. Eligendi reprehenderit sapiente sapiente cum error ea. Ad dignissimos voluptate inventore cum ratione quae. Necessitatibus iste excepturi itaque pariatur. Repudiandae consectetur maiores temporibus quo autem vero illo.\n",
      "Nesciunt tempora atque facilis deleniti assumenda. Molestiae provident expedita cupiditate corrupti eum eaque ea at. Occaecati perspiciatis velit voluptas alias ullam consectetur explicabo. Ullam cupiditate dolor maxime dolores quos.\n",
      "Ullam quos dolores aspernatur dolorem dolores. Sint placeat at quibusdam praesentium impedit commodi optio. Id quia commodi vitae tenetur. Eligendi expedita porro voluptas sapiente.\n",
      "Dolor distinctio exercitationem labore dolorum. Dolores exercitationem sequi molestias fugit aut. Error tempore aperiam adipisci. At maxime ullam pariatur dolorem excepturi.\n",
      "Suscipit dol...\n"
     ]
    }
   ],
   "source": [
    "from faker import Factory\n",
    "\n",
    "fake = Factory.create('en_US')\n",
    "\n",
    "text = fake.text(10000)\n",
    "print text[:1000] + '...'"
   ]
  },
  {
   "cell_type": "markdown",
   "metadata": {},
   "source": [
    "4. Вывод результатов кодирования\n",
    "----------------------------------------------------"
   ]
  },
  {
   "cell_type": "code",
   "execution_count": 4,
   "metadata": {
    "collapsed": false
   },
   "outputs": [
    {
     "name": "stdout",
     "output_type": "stream",
     "text": [
      "Количество переполнений буффера 3\n",
      "Количество пар 3094\n",
      "Время выполнения 1.545\n",
      "\n",
      "Длина закодированного текста в битах: 55692\n",
      "Длина исходного текста в батах: 78944\n",
      "Сжатие: 29.45%\n"
     ]
    }
   ],
   "source": [
    "encoded_text, codes_num = encode_lz78(text)\n",
    "    \n",
    "print '\\nДлина закодированного текста в битах: {}'.format(len(encoded_text))\n",
    "print 'Длина исходного текста в битах: {}'.format(len(text)*8)\n",
    "print 'Сжатие: {:.2f}%'.format(100*(1 - len(encoded_text)/float(len(text)*8)))"
   ]
  },
  {
   "cell_type": "code",
   "execution_count": 5,
   "metadata": {
    "collapsed": false
   },
   "outputs": [
    {
     "name": "stdout",
     "output_type": "stream",
     "text": [
      "0000000000010101100000000000011001010000000000011100100000000000011010010000000000011101000000000000011000010000000101011010010000000000011100110000000000001000000000000000011010000000000110011100100000000000011101010000000000011011010000001001011000010000000000011100000000000010011100100000000100011000010000001101001000000000001111011100100000000110011001010000001000011001010000000000011011100000000111011101010000010010011101000000000010011011010000001111011011110000000011011010010000000000011000100000001100011100110000001001011100100000000010011100000000001100011001000000010001011011100000000000011001000000010100001011100000001001010101000000000000011011110000000101011000010000010010011000010000001000011100000000010000011010010000100101011100100000000010011100110000001001011000100000000000011011000000000110011011100000100010011010010000000111011010010000001000001000000000000000011101100000100101011011000000001100011100000000100110011100110000001001011011010000110011011011000000000100...\n"
     ]
    }
   ],
   "source": [
    "print encoded_text[:1000] + '...'"
   ]
  },
  {
   "cell_type": "markdown",
   "metadata": {},
   "source": [
    "5. Функция декодирования\n",
    "------------------------------------------------"
   ]
  },
  {
   "cell_type": "code",
   "execution_count": 6,
   "metadata": {
    "collapsed": true
   },
   "outputs": [],
   "source": [
    "def decode_lz78(text):\n",
    "    \n",
    "    dictionary = []\n",
    "    \n",
    "    # Для каждой пары\n",
    "    decoded_text = ''\n",
    "    for i in xrange(codes_num):\n",
    "        code = text[i*(CODE_LENGTH): (i + 1)*CODE_LENGTH]\n",
    "        element_0 = int(code[:CODE_BYTE_LENGTH], 2)\n",
    "        element_1 = chr(int(code[CODE_BYTE_LENGTH:], 2))\n",
    "        \n",
    "        if element_0:\n",
    "            decoded_text += dictionary[element_0 - 1] + element_1\n",
    "            dictionary.append(dictionary[element_0 - 1] + element_1)\n",
    "        else:\n",
    "            decoded_text += element_1\n",
    "            dictionary.append(element_1)\n",
    "            \n",
    "    return decoded_text  "
   ]
  },
  {
   "cell_type": "markdown",
   "metadata": {},
   "source": [
    "6. Результат декодирования\n",
    "----------------------------------------------------"
   ]
  },
  {
   "cell_type": "code",
   "execution_count": 7,
   "metadata": {
    "collapsed": false
   },
   "outputs": [
    {
     "name": "stdout",
     "output_type": "stream",
     "text": [
      "Veritatis harum aperiam praesentium temporibus repudiandae. Totam asperiores blanditiis voluptas mollitia. Praesentium aut tenetur voluptates nam ducimus.\n",
      "In ullam fuga at totam. Eligendi reprehenderit sapiente sapiente cum error ea. Ad dignissimos voluptate inventore cum ratione quae. Necessitatibus iste excepturi itaque pariatur. Repudiandae consectetur maiores temporibus quo autem vero illo.\n",
      "Nesciunt tempora atque facilis deleniti assumenda. Molestiae provident expedita cupiditate corrupti eum eaque ea at. Occaecati perspiciatis velit voluptas alias ullam consectetur explicabo. Ullam cupiditate dolor maxime dolores quos.\n",
      "Ullam quos dolores aspernatur dolorem dolores. Sint placeat at quibusdam praesentium impedit commodi optio. Id quia commodi vitae tenetur. Eligendi expedita porro voluptas sapiente.\n",
      "Dolor distinctio exercitationem labore dolorum. Dolores exercitationem sequi molestias fugit aut. Error tempore aperiam adipisci. At maxime ullam pariatur dolorem excepturi.\n",
      "Suscipit dol...\n"
     ]
    }
   ],
   "source": [
    "print decode_lz78(encoded_text)[:1000] + '...'"
   ]
  }
 ],
 "metadata": {
  "kernelspec": {
   "display_name": "Python 2",
   "language": "python",
   "name": "python2"
  },
  "language_info": {
   "codemirror_mode": {
    "name": "ipython",
    "version": 2
   },
   "file_extension": ".py",
   "mimetype": "text/x-python",
   "name": "python",
   "nbconvert_exporter": "python",
   "pygments_lexer": "ipython2",
   "version": "2.7.11"
  }
 },
 "nbformat": 4,
 "nbformat_minor": 0
}
