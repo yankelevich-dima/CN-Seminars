{
 "cells": [
  {
   "cell_type": "markdown",
   "metadata": {},
   "source": [
    "Cеминар 6. Реализация алгоритма LZW\n",
    "-----------------------------------------------\n",
    "\n",
    "***********************************************\n",
    "\n",
    "*Материалы:*\n",
    "\n",
    "[Википедия](https://ru.wikipedia.org/wiki/LZ77)  \n",
    "[Викиконспекты](http://neerc.ifmo.ru/wiki/index.php?title=%D0%90%D0%BB%D0%B3%D0%BE%D1%80%D0%B8%D1%82%D0%BC%D1%8B_LZ77_%D0%B8_LZ78)  \n",
    "[Хабр](https://habrahabr.ru/post/132683/)\n",
    "\n",
    "***********************************************"
   ]
  },
  {
   "cell_type": "markdown",
   "metadata": {},
   "source": [
    "1. Определяем вспомогательные функции\n",
    "-----------------------------------------------------------------------------\n",
    "\n",
    "`find_patern` - находит подстроку максимальной длины, находящейся в списке  \n",
    "`int_to_byte` - переводит число в двоичный вид с заданной точностью\n",
    "*****************************************************************************"
   ]
  },
  {
   "cell_type": "code",
   "execution_count": 1,
   "metadata": {
    "collapsed": true
   },
   "outputs": [],
   "source": [
    "def find_pattern(dictionary, text):\n",
    "    # Просматриваем слова в порядке возрастания\n",
    "    for element in sorted(dictionary, key=lambda x: len(x), reverse=True):\n",
    "        # Обрабатываем случай неправильной работы zip\n",
    "        if len(element) <= len(text):\n",
    "            # Если все пары одинаковы - текст начинался с данного элемента\n",
    "            if all(a == b for a, b in zip(element, text)):\n",
    "                return element\n",
    "            \n",
    "def int_to_byte(element, base):\n",
    "    return ('{:0'+ str(base) + 'b}').format(element)"
   ]
  },
  {
   "cell_type": "markdown",
   "metadata": {},
   "source": [
    "2. Генерируем случайный текст\n",
    "-----------------------------------------------------------"
   ]
  },
  {
   "cell_type": "code",
   "execution_count": 2,
   "metadata": {
    "collapsed": false
   },
   "outputs": [
    {
     "name": "stdout",
     "output_type": "stream",
     "text": [
      "Pariatur enim fugiat delectus occaecati temporibus corporis. Molestiae fugiat est at quasi soluta accusamus aspernatur aperiam. Sapiente iste dolores a amet veniam architecto. Accusantium iure animi commodi temporibus.\n"
     ]
    }
   ],
   "source": [
    "from faker import Factory\n",
    "\n",
    "fake = Factory.create('en_US')\n",
    "\n",
    "text = fake.text(256)\n",
    "print text"
   ]
  },
  {
   "cell_type": "markdown",
   "metadata": {},
   "source": [
    "3. Создаем список уникальных букв, встречающихся в тексте\n",
    "--------------------------------------------------------------------------"
   ]
  },
  {
   "cell_type": "code",
   "execution_count": 3,
   "metadata": {
    "collapsed": false
   },
   "outputs": [
    {
     "name": "stdout",
     "output_type": "stream",
     "text": [
      "[u' ', u'.', u'A', u'M', u'P', u'S', u'a', u'b', u'c', u'd', u'e', u'f', u'g', u'h', u'i', u'l', u'm', u'n', u'o', u'p', u'q', u'r', u's', u't', u'u', u'v']\n"
     ]
    }
   ],
   "source": [
    "letters = sorted(list(set(text)))\n",
    "print letters"
   ]
  },
  {
   "cell_type": "markdown",
   "metadata": {},
   "source": [
    "4. Функция кодирования\n",
    "----------------------------------------------------------"
   ]
  },
  {
   "cell_type": "code",
   "execution_count": 4,
   "metadata": {
    "collapsed": false
   },
   "outputs": [],
   "source": [
    "import math\n",
    "\n",
    "def encode_lzw(text, dictionary):\n",
    "    current_base = int(math.ceil(math.log(len(dictionary), 2)))\n",
    "    temp_dictionary = dict((element, index) for index, element in enumerate(dictionary))\n",
    "    codes = []\n",
    "    encoded_text = ''\n",
    "    \n",
    "    while len(text):\n",
    "        element = find_pattern(temp_dictionary.keys(), text)\n",
    "        if len(text) > len(element):\n",
    "            temp_dictionary[element + text[len(element)]] = len(temp_dictionary)\n",
    "        \n",
    "        current_base = int(math.ceil(math.log(len(temp_dictionary) - 1, 2)))        \n",
    "        encoded_text += int_to_byte(temp_dictionary[element], current_base)\n",
    "        \n",
    "        text = text[len(element):]\n",
    "        \n",
    "    return codes, encoded_text\n",
    "       "
   ]
  },
  {
   "cell_type": "markdown",
   "metadata": {},
   "source": [
    "5. Результат кодирования\n",
    "------------------------------------------------------------------"
   ]
  },
  {
   "cell_type": "code",
   "execution_count": 5,
   "metadata": {
    "collapsed": false
   },
   "outputs": [
    {
     "name": "stdout",
     "output_type": "stream",
     "text": [
      "0010000110101010111000110101111100001010100000000101001000100111001000000000000101101100000110001110101011100000000100100101000111100101000100001111101011000000001001000100000100000011011000101111000111000000001011100101001000000100110010010001110000001110011000011010000010001000010100000100111000010110000000100000000000011001001001100000010110001011100111010001010010011101010010101011010001010100010000000001111000000000010100001100000001100010110011110000101101001111001100000101110000110101101001101111000101000011000100001000101101101000101100010011000101000101010010001001111001000001011010110111100111001101010100110000001010000110001001100011100100011011111000000000000111001010001010101000000100101001111010000100000101000110100011001100110101000001010001011000001100100100011000111010010011000011011000010000000110100001110001111100011001000010010010011000000001001101000000101100000011000010001010100100001100000100110000011100010000001010100100111000010010100111100010001110001000000010000000100100000100100111100001111100100000001000010000011100100010001001011\n"
     ]
    }
   ],
   "source": [
    "codes, encoded_text = encode_lzw(text, letters)\n",
    "print encoded_text"
   ]
  },
  {
   "cell_type": "markdown",
   "metadata": {},
   "source": [
    "6. Функция декодирования\n",
    "-----------------------------------------------------------"
   ]
  },
  {
   "cell_type": "code",
   "execution_count": 6,
   "metadata": {
    "collapsed": false
   },
   "outputs": [],
   "source": [
    "def decode_lzw(text, dictionary):\n",
    "    \n",
    "    current_base = int(math.ceil(math.log(len(dictionary), 2)))\n",
    "    temp_dictionary = dict((index, element) for index, element in enumerate(dictionary))   \n",
    "        \n",
    "    decoded_text = ''    \n",
    "    prev_letter = ''  \n",
    "    \n",
    "    while len(text):\n",
    "        current_base = int(math.ceil(math.log(len(temp_dictionary) + 1, 2)))\n",
    "        \n",
    "        element = int(text[:current_base], 2)\n",
    "        \n",
    "        if prev_letter:\n",
    "            temp_dictionary[len(temp_dictionary)] = prev_letter + temp_dictionary[element][0]\n",
    "        prev_letter = temp_dictionary[element]\n",
    "\n",
    "        decoded_text += prev_letter\n",
    "        text = text[current_base:]\n",
    "            \n",
    "    return decoded_text"
   ]
  },
  {
   "cell_type": "markdown",
   "metadata": {},
   "source": [
    "7. Результат декодирования\n",
    "-------------------------------------------------"
   ]
  },
  {
   "cell_type": "code",
   "execution_count": 7,
   "metadata": {
    "collapsed": false
   },
   "outputs": [
    {
     "name": "stdout",
     "output_type": "stream",
     "text": [
      "Pariatur enim fugiat delectus occaecati temporibus corporis. Molestiae fugiat est at quasi soluta accusamus aspernatur aperiam. Sapiente iste dolores a amet veniam architecto. Accusantium iure animi commodi temporibus.\n",
      "\n",
      "Pariatur enim fugiat delectus occaecati temporibus corporis. Molestiae fugiat est at quasi soluta accusamus aspernatur aperiam. Sapiente iste dolores a amet veniam architecto. Accusantium iure animi commodi temporibus.\n"
     ]
    }
   ],
   "source": [
    "print decode_lzw(encoded_text, letters) + '\\n'\n",
    "print text"
   ]
  }
 ],
 "metadata": {
  "kernelspec": {
   "display_name": "Python 2",
   "language": "python",
   "name": "python2"
  },
  "language_info": {
   "codemirror_mode": {
    "name": "ipython",
    "version": 2
   },
   "file_extension": ".py",
   "mimetype": "text/x-python",
   "name": "python",
   "nbconvert_exporter": "python",
   "pygments_lexer": "ipython2",
   "version": "2.7.11"
  }
 },
 "nbformat": 4,
 "nbformat_minor": 0
}
