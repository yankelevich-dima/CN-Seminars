{
 "cells": [
  {
   "cell_type": "code",
   "execution_count": 1,
   "metadata": {
    "collapsed": false
   },
   "outputs": [],
   "source": [
    "import socket\n",
    "\n",
    "conn = socket.socket()\n",
    "conn.connect(('127.0.0.1', 14037))"
   ]
  },
  {
   "cell_type": "code",
   "execution_count": 2,
   "metadata": {
    "collapsed": true
   },
   "outputs": [],
   "source": [
    "conn1 = socket.socket()\n",
    "conn1.connect(('127.0.0.1', 14037))"
   ]
  },
  {
   "cell_type": "code",
   "execution_count": 3,
   "metadata": {
    "collapsed": false
   },
   "outputs": [
    {
     "name": "stdout",
     "output_type": "stream",
     "text": [
      "fjbgekfbgke\n",
      "FJBGEKFBGKE\n"
     ]
    }
   ],
   "source": [
    "conn.send(raw_input().encode())\n",
    "\n",
    "try:\n",
    "    data = conn.recv(100)\n",
    "except:\n",
    "    pass\n",
    "\n",
    "print data\n",
    "conn.close()"
   ]
  },
  {
   "cell_type": "code",
   "execution_count": 4,
   "metadata": {
    "collapsed": false
   },
   "outputs": [
    {
     "name": "stdout",
     "output_type": "stream",
     "text": [
      "jkgberjber\n",
      "JKGBERJBER\n"
     ]
    }
   ],
   "source": [
    "conn1.send(raw_input().encode())\n",
    "\n",
    "try:\n",
    "    data = conn1.recv(100)\n",
    "except:\n",
    "    pass\n",
    "\n",
    "print data\n",
    "conn1.close()"
   ]
  },
  {
   "cell_type": "code",
   "execution_count": null,
   "metadata": {
    "collapsed": true
   },
   "outputs": [],
   "source": []
  }
 ],
 "metadata": {
  "kernelspec": {
   "display_name": "Python 2",
   "language": "python",
   "name": "python2"
  },
  "language_info": {
   "codemirror_mode": {
    "name": "ipython",
    "version": 2
   },
   "file_extension": ".py",
   "mimetype": "text/x-python",
   "name": "python",
   "nbconvert_exporter": "python",
   "pygments_lexer": "ipython2",
   "version": "2.7.11"
  }
 },
 "nbformat": 4,
 "nbformat_minor": 0
}
