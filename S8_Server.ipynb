{
 "cells": [
  {
   "cell_type": "code",
   "execution_count": null,
   "metadata": {
    "collapsed": false
   },
   "outputs": [
    {
     "name": "stdout",
     "output_type": "stream",
     "text": [
      "New connection from 127.0.0.1\n",
      "Recieving data...\n",
      "New connection from 127.0.0.1\n",
      "Recieving data...\n",
      "Data recieved\n",
      "FJBGEKFBGKE\n",
      "Connection closed\n",
      "Data recieved\n",
      "JKGBERJBER\n",
      "Connection closed\n"
     ]
    }
   ],
   "source": [
    "import socket\n",
    "import multiprocessing\n",
    "\n",
    "pool = ThreadPool()\n",
    "\n",
    "def handle_client(conn):\n",
    "    conn.setblocking(1)\n",
    "    print(\"New connection from \" + addr[0])\n",
    "    try:\n",
    "        print 'Recieving data...'\n",
    "        data = conn.recv(1024).decode(\"ascii\")\n",
    "        print 'Data recieved'\n",
    "        conn.send(data.upper())\n",
    "        print data.upper()\n",
    "    except Exception, e:\n",
    "        print e\n",
    "    finally:\n",
    "        print 'Connection closed'\n",
    "        conn.close()\n",
    "    \n",
    "    \n",
    "sock = socket.socket()\n",
    "sock.bind(('', 14037))\n",
    "sock.listen(5)\n",
    "\n",
    "jobs = []\n",
    "\n",
    "try:\n",
    "    while 1:    \n",
    "        conn, addr = sock.accept()\n",
    "        p = multiprocessing.Process(target=handle_client, args=(conn,))\n",
    "        jobs.append(p)\n",
    "        p.start()   \n",
    "finally: sock.close()"
   ]
  },
  {
   "cell_type": "code",
   "execution_count": null,
   "metadata": {
    "collapsed": true
   },
   "outputs": [],
   "source": []
  }
 ],
 "metadata": {
  "kernelspec": {
   "display_name": "Python 2",
   "language": "python",
   "name": "python2"
  },
  "language_info": {
   "codemirror_mode": {
    "name": "ipython",
    "version": 2
   },
   "file_extension": ".py",
   "mimetype": "text/x-python",
   "name": "python",
   "nbconvert_exporter": "python",
   "pygments_lexer": "ipython2",
   "version": "2.7.11"
  }
 },
 "nbformat": 4,
 "nbformat_minor": 0
}
