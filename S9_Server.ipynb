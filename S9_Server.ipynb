{
 "cells": [
  {
   "cell_type": "code",
   "execution_count": 7,
   "metadata": {
    "collapsed": false
   },
   "outputs": [
    {
     "name": "stderr",
     "output_type": "stream",
     "text": [
      "127.0.0.1 - - [28/Apr/2016 15:43:06] code 501, message Unsupported method ('GET')\n",
      "127.0.0.1 - - [28/Apr/2016 15:43:06] \"GET / HTTP/1.1\" 501 -\n",
      "127.0.0.1 - - [28/Apr/2016 15:43:06] code 501, message Unsupported method ('GET')\n",
      "127.0.0.1 - - [28/Apr/2016 15:43:06] \"GET /favicon.ico HTTP/1.1\" 501 -\n",
      "127.0.0.1 - - [28/Apr/2016 15:43:06] code 501, message Unsupported method ('GET')\n",
      "127.0.0.1 - - [28/Apr/2016 15:43:06] \"GET /favicon.ico HTTP/1.1\" 501 -\n",
      "127.0.0.1 - - [28/Apr/2016 15:43:49] \"POST /RPC2 HTTP/1.1\" 200 -\n",
      "127.0.0.1 - - [28/Apr/2016 15:50:19] \"POST /RPC2 HTTP/1.1\" 200 -\n",
      "127.0.0.1 - - [28/Apr/2016 15:52:20] \"POST /RPC2 HTTP/1.1\" 200 -\n",
      "127.0.0.1 - - [28/Apr/2016 15:52:45] \"POST /RPC2 HTTP/1.1\" 200 -\n",
      "127.0.0.1 - - [28/Apr/2016 15:53:03] \"POST /RPC2 HTTP/1.1\" 200 -\n",
      "127.0.0.1 - - [28/Apr/2016 15:53:38] code 501, message Unsupported method ('GET')\n",
      "127.0.0.1 - - [28/Apr/2016 15:53:38] \"GET / HTTP/1.1\" 501 -\n",
      "127.0.0.1 - - [28/Apr/2016 15:53:55] code 501, message Unsupported method ('GET')\n",
      "127.0.0.1 - - [28/Apr/2016 15:53:55] \"GET / HTTP/1.1\" 501 -\n",
      "127.0.0.1 - - [28/Apr/2016 15:53:56] code 501, message Unsupported method ('GET')\n",
      "127.0.0.1 - - [28/Apr/2016 15:53:56] \"GET / HTTP/1.1\" 501 -\n",
      "127.0.0.1 - - [28/Apr/2016 15:54:17] code 501, message Unsupported method ('GET')\n",
      "127.0.0.1 - - [28/Apr/2016 15:54:17] \"GET / HTTP/1.1\" 501 -\n",
      "127.0.0.1 - - [28/Apr/2016 15:54:20] code 501, message Unsupported method ('GET')\n",
      "127.0.0.1 - - [28/Apr/2016 15:54:20] \"GET / HTTP/1.1\" 501 -\n",
      "127.0.0.1 - - [28/Apr/2016 15:55:58] code 501, message Unsupported method ('GET')\n",
      "127.0.0.1 - - [28/Apr/2016 15:55:58] \"GET / HTTP/1.1\" 501 -\n",
      "127.0.0.1 - - [28/Apr/2016 15:56:24] code 501, message Unsupported method ('GET')\n",
      "127.0.0.1 - - [28/Apr/2016 15:56:24] \"GET / HTTP/1.1\" 501 -\n",
      "127.0.0.1 - - [28/Apr/2016 15:56:27] code 501, message Unsupported method ('GET')\n",
      "127.0.0.1 - - [28/Apr/2016 15:56:27] \"GET / HTTP/1.1\" 501 -\n",
      "127.0.0.1 - - [28/Apr/2016 15:56:39] code 501, message Unsupported method ('GET')\n",
      "127.0.0.1 - - [28/Apr/2016 15:56:39] \"GET / HTTP/1.1\" 501 -\n",
      "127.0.0.1 - - [28/Apr/2016 15:56:58] code 501, message Unsupported method ('GET')\n",
      "127.0.0.1 - - [28/Apr/2016 15:56:58] \"GET / HTTP/1.1\" 501 -\n",
      "127.0.0.1 - - [28/Apr/2016 15:57:00] code 501, message Unsupported method ('GET')\n",
      "127.0.0.1 - - [28/Apr/2016 15:57:00] \"GET / HTTP/1.1\" 501 -\n",
      "127.0.0.1 - - [28/Apr/2016 15:58:47] code 501, message Unsupported method ('GET')\n",
      "127.0.0.1 - - [28/Apr/2016 15:58:47] \"GET / HTTP/1.1\" 501 -\n",
      "127.0.0.1 - - [28/Apr/2016 16:00:29] code 501, message Unsupported method ('GET')\n",
      "127.0.0.1 - - [28/Apr/2016 16:00:29] \"GET / HTTP/1.1\" 501 -\n",
      "127.0.0.1 - - [28/Apr/2016 16:00:58] code 501, message Unsupported method ('GET')\n",
      "127.0.0.1 - - [28/Apr/2016 16:00:58] \"GET / HTTP/1.1\" 501 -\n",
      "127.0.0.1 - - [28/Apr/2016 16:01:40] code 501, message Unsupported method ('GET')\n",
      "127.0.0.1 - - [28/Apr/2016 16:01:40] \"GET / HTTP/1.1\" 501 -\n",
      "127.0.0.1 - - [28/Apr/2016 16:05:15] \"POST /RPC2 HTTP/1.1\" 200 -\n",
      "127.0.0.1 - - [28/Apr/2016 16:05:39] \"POST /RPC2 HTTP/1.1\" 200 -\n"
     ]
    },
    {
     "ename": "KeyboardInterrupt",
     "evalue": "",
     "output_type": "error",
     "traceback": [
      "\u001b[1;31m---------------------------------------------------------------------------\u001b[0m",
      "\u001b[1;31mKeyboardInterrupt\u001b[0m                         Traceback (most recent call last)",
      "\u001b[1;32m<ipython-input-7-f9684b33abcd>\u001b[0m in \u001b[0;36m<module>\u001b[1;34m()\u001b[0m\n\u001b[0;32m     19\u001b[0m \u001b[1;33m\u001b[0m\u001b[0m\n\u001b[0;32m     20\u001b[0m \u001b[1;31m# Run the server's main loop\u001b[0m\u001b[1;33m\u001b[0m\u001b[1;33m\u001b[0m\u001b[0m\n\u001b[1;32m---> 21\u001b[1;33m \u001b[0mserver\u001b[0m\u001b[1;33m.\u001b[0m\u001b[0mserve_forever\u001b[0m\u001b[1;33m(\u001b[0m\u001b[1;33m)\u001b[0m\u001b[1;33m\u001b[0m\u001b[0m\n\u001b[0m",
      "\u001b[1;32m/home/dmitry/anaconda2/lib/python2.7/SocketServer.pyc\u001b[0m in \u001b[0;36mserve_forever\u001b[1;34m(self, poll_interval)\u001b[0m\n\u001b[0;32m    234\u001b[0m                 \u001b[1;31m# shutdown request and wastes cpu at all other times.\u001b[0m\u001b[1;33m\u001b[0m\u001b[1;33m\u001b[0m\u001b[0m\n\u001b[0;32m    235\u001b[0m                 r, w, e = _eintr_retry(select.select, [self], [], [],\n\u001b[1;32m--> 236\u001b[1;33m                                        poll_interval)\n\u001b[0m\u001b[0;32m    237\u001b[0m                 \u001b[1;32mif\u001b[0m \u001b[0mself\u001b[0m \u001b[1;32min\u001b[0m \u001b[0mr\u001b[0m\u001b[1;33m:\u001b[0m\u001b[1;33m\u001b[0m\u001b[0m\n\u001b[0;32m    238\u001b[0m                     \u001b[0mself\u001b[0m\u001b[1;33m.\u001b[0m\u001b[0m_handle_request_noblock\u001b[0m\u001b[1;33m(\u001b[0m\u001b[1;33m)\u001b[0m\u001b[1;33m\u001b[0m\u001b[0m\n",
      "\u001b[1;32m/home/dmitry/anaconda2/lib/python2.7/SocketServer.pyc\u001b[0m in \u001b[0;36m_eintr_retry\u001b[1;34m(func, *args)\u001b[0m\n\u001b[0;32m    153\u001b[0m     \u001b[1;32mwhile\u001b[0m \u001b[0mTrue\u001b[0m\u001b[1;33m:\u001b[0m\u001b[1;33m\u001b[0m\u001b[0m\n\u001b[0;32m    154\u001b[0m         \u001b[1;32mtry\u001b[0m\u001b[1;33m:\u001b[0m\u001b[1;33m\u001b[0m\u001b[0m\n\u001b[1;32m--> 155\u001b[1;33m             \u001b[1;32mreturn\u001b[0m \u001b[0mfunc\u001b[0m\u001b[1;33m(\u001b[0m\u001b[1;33m*\u001b[0m\u001b[0margs\u001b[0m\u001b[1;33m)\u001b[0m\u001b[1;33m\u001b[0m\u001b[0m\n\u001b[0m\u001b[0;32m    156\u001b[0m         \u001b[1;32mexcept\u001b[0m \u001b[1;33m(\u001b[0m\u001b[0mOSError\u001b[0m\u001b[1;33m,\u001b[0m \u001b[0mselect\u001b[0m\u001b[1;33m.\u001b[0m\u001b[0merror\u001b[0m\u001b[1;33m)\u001b[0m \u001b[1;32mas\u001b[0m \u001b[0me\u001b[0m\u001b[1;33m:\u001b[0m\u001b[1;33m\u001b[0m\u001b[0m\n\u001b[0;32m    157\u001b[0m             \u001b[1;32mif\u001b[0m \u001b[0me\u001b[0m\u001b[1;33m.\u001b[0m\u001b[0margs\u001b[0m\u001b[1;33m[\u001b[0m\u001b[1;36m0\u001b[0m\u001b[1;33m]\u001b[0m \u001b[1;33m!=\u001b[0m \u001b[0merrno\u001b[0m\u001b[1;33m.\u001b[0m\u001b[0mEINTR\u001b[0m\u001b[1;33m:\u001b[0m\u001b[1;33m\u001b[0m\u001b[0m\n",
      "\u001b[1;31mKeyboardInterrupt\u001b[0m: "
     ]
    }
   ],
   "source": [
    "from SimpleXMLRPCServer import SimpleXMLRPCServer\n",
    "from SimpleXMLRPCServer import SimpleXMLRPCRequestHandler\n",
    "\n",
    "\n",
    "# Restrict to a particular path.\n",
    "class RequestHandler(SimpleXMLRPCRequestHandler):\n",
    "    rpc_paths = ('/RPC2',)\n",
    "\n",
    "# Create server\n",
    "server = SimpleXMLRPCServer((\"localhost\", 8008),\n",
    "                            requestHandler=RequestHandler)\n",
    "server.register_introspection_functions()\n",
    "\n",
    "# Register a function under a different name\n",
    "def echo(request):\n",
    "    return request.upper()\n",
    "server.register_function(echo, 'echo')\n",
    "\n",
    "\n",
    "# Run the server's main loop\n",
    "server.serve_forever()"
   ]
  },
  {
   "cell_type": "code",
   "execution_count": null,
   "metadata": {
    "collapsed": true
   },
   "outputs": [],
   "source": []
  }
 ],
 "metadata": {
  "kernelspec": {
   "display_name": "Python 2",
   "language": "python",
   "name": "python2"
  },
  "language_info": {
   "codemirror_mode": {
    "name": "ipython",
    "version": 2
   },
   "file_extension": ".py",
   "mimetype": "text/x-python",
   "name": "python",
   "nbconvert_exporter": "python",
   "pygments_lexer": "ipython2",
   "version": "2.7.11"
  }
 },
 "nbformat": 4,
 "nbformat_minor": 0
}
